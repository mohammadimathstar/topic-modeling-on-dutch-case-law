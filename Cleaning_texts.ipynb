{
 "cells": [
  {
   "cell_type": "code",
   "execution_count": 1,
   "id": "72b89b81",
   "metadata": {},
   "outputs": [],
   "source": [
    "import pandas as pd\n",
    "import numpy as np"
   ]
  },
  {
   "cell_type": "code",
   "execution_count": 2,
   "id": "7ce6c13e",
   "metadata": {},
   "outputs": [
    {
     "name": "stdout",
     "output_type": "stream",
     "text": [
      "5036\n"
     ]
    },
    {
     "data": {
      "text/html": [
       "<div>\n",
       "<style scoped>\n",
       "    .dataframe tbody tr th:only-of-type {\n",
       "        vertical-align: middle;\n",
       "    }\n",
       "\n",
       "    .dataframe tbody tr th {\n",
       "        vertical-align: top;\n",
       "    }\n",
       "\n",
       "    .dataframe thead th {\n",
       "        text-align: right;\n",
       "    }\n",
       "</style>\n",
       "<table border=\"1\" class=\"dataframe\">\n",
       "  <thead>\n",
       "    <tr style=\"text-align: right;\">\n",
       "      <th></th>\n",
       "      <th>ECLI</th>\n",
       "    </tr>\n",
       "  </thead>\n",
       "  <tbody>\n",
       "    <tr>\n",
       "      <th>0</th>\n",
       "      <td>ECLI:NL:RBZWO:2004:AO9060</td>\n",
       "    </tr>\n",
       "    <tr>\n",
       "      <th>1</th>\n",
       "      <td>ECLI:NL:RBZWO:2003:AO0995</td>\n",
       "    </tr>\n",
       "    <tr>\n",
       "      <th>2</th>\n",
       "      <td>ECLI:NL:RBZWO:2003:AN8746</td>\n",
       "    </tr>\n",
       "    <tr>\n",
       "      <th>3</th>\n",
       "      <td>ECLI:NL:RBZWO:2003:AL8413</td>\n",
       "    </tr>\n",
       "    <tr>\n",
       "      <th>4</th>\n",
       "      <td>ECLI:NL:RBZWO:2003:AJ6882</td>\n",
       "    </tr>\n",
       "  </tbody>\n",
       "</table>\n",
       "</div>"
      ],
      "text/plain": [
       "                        ECLI\n",
       "0  ECLI:NL:RBZWO:2004:AO9060\n",
       "1  ECLI:NL:RBZWO:2003:AO0995\n",
       "2  ECLI:NL:RBZWO:2003:AN8746\n",
       "3  ECLI:NL:RBZWO:2003:AL8413\n",
       "4  ECLI:NL:RBZWO:2003:AJ6882"
      ]
     },
     "execution_count": 2,
     "metadata": {},
     "output_type": "execute_result"
    }
   ],
   "source": [
    "df_evict = pd.read_csv(\"./data/eviction.csv\", delimiter=\";\", usecols=[\"ECLI\"])\n",
    "evict_ecli = df_evict.ECLI.tolist()\n",
    "print(len(evict_ecli))\n",
    "df_evict.head()\n",
    "# df.index"
   ]
  },
  {
   "cell_type": "code",
   "execution_count": 3,
   "id": "6524462b",
   "metadata": {},
   "outputs": [
    {
     "name": "stdout",
     "output_type": "stream",
     "text": [
      "there are 5010 eviction-related (known) cases.\n"
     ]
    },
    {
     "data": {
      "text/html": [
       "<div>\n",
       "<style scoped>\n",
       "    .dataframe tbody tr th:only-of-type {\n",
       "        vertical-align: middle;\n",
       "    }\n",
       "\n",
       "    .dataframe tbody tr th {\n",
       "        vertical-align: top;\n",
       "    }\n",
       "\n",
       "    .dataframe thead th {\n",
       "        text-align: right;\n",
       "    }\n",
       "</style>\n",
       "<table border=\"1\" class=\"dataframe\">\n",
       "  <thead>\n",
       "    <tr style=\"text-align: right;\">\n",
       "      <th></th>\n",
       "      <th>link</th>\n",
       "      <th>judgment_text</th>\n",
       "      <th>rechtsgebied</th>\n",
       "      <th>p_topic_is_eviction</th>\n",
       "    </tr>\n",
       "    <tr>\n",
       "      <th>ECLI</th>\n",
       "      <th></th>\n",
       "      <th></th>\n",
       "      <th></th>\n",
       "      <th></th>\n",
       "    </tr>\n",
       "  </thead>\n",
       "  <tbody>\n",
       "    <tr>\n",
       "      <th>ECLI:NL:RBAMS:2000:AA5199</th>\n",
       "      <td>https://uitspraken.rechtspraak.nl/details?id=E...</td>\n",
       "      <td>-\\nrolnummer KG 00/511 VB van:\\nt e g e n :\\n\\...</td>\n",
       "      <td>civiel recht; insolventierecht</td>\n",
       "      <td>True</td>\n",
       "    </tr>\n",
       "    <tr>\n",
       "      <th>ECLI:NL:RBAMS:2000:AF0022</th>\n",
       "      <td>https://uitspraken.rechtspraak.nl/details?id=E...</td>\n",
       "      <td>Schorsing executie ontruimingsvonnis nu schuld...</td>\n",
       "      <td>civiel recht</td>\n",
       "      <td>True</td>\n",
       "    </tr>\n",
       "    <tr>\n",
       "      <th>ECLI:NL:RBARN:2000:AF0135</th>\n",
       "      <td>https://uitspraken.rechtspraak.nl/details?id=E...</td>\n",
       "      <td>Vaststelling door rechter-commissaris van een ...</td>\n",
       "      <td>civiel recht</td>\n",
       "      <td>True</td>\n",
       "    </tr>\n",
       "    <tr>\n",
       "      <th>ECLI:NL:RBMID:2000:AF0403</th>\n",
       "      <td>https://uitspraken.rechtspraak.nl/details?id=E...</td>\n",
       "      <td>De Kantonrechter oordeelt dat een schuldsaneri...</td>\n",
       "      <td>civiel recht</td>\n",
       "      <td>True</td>\n",
       "    </tr>\n",
       "    <tr>\n",
       "      <th>ECLI:NL:RBROT:2000:AF0496</th>\n",
       "      <td>https://uitspraken.rechtspraak.nl/details?id=E...</td>\n",
       "      <td>Afkoelingsperiode doet niet af aan een ontruim...</td>\n",
       "      <td>civiel recht</td>\n",
       "      <td>True</td>\n",
       "    </tr>\n",
       "  </tbody>\n",
       "</table>\n",
       "</div>"
      ],
      "text/plain": [
       "                                                                        link  \\\n",
       "ECLI                                                                           \n",
       "ECLI:NL:RBAMS:2000:AA5199  https://uitspraken.rechtspraak.nl/details?id=E...   \n",
       "ECLI:NL:RBAMS:2000:AF0022  https://uitspraken.rechtspraak.nl/details?id=E...   \n",
       "ECLI:NL:RBARN:2000:AF0135  https://uitspraken.rechtspraak.nl/details?id=E...   \n",
       "ECLI:NL:RBMID:2000:AF0403  https://uitspraken.rechtspraak.nl/details?id=E...   \n",
       "ECLI:NL:RBROT:2000:AF0496  https://uitspraken.rechtspraak.nl/details?id=E...   \n",
       "\n",
       "                                                               judgment_text  \\\n",
       "ECLI                                                                           \n",
       "ECLI:NL:RBAMS:2000:AA5199  -\\nrolnummer KG 00/511 VB van:\\nt e g e n :\\n\\...   \n",
       "ECLI:NL:RBAMS:2000:AF0022  Schorsing executie ontruimingsvonnis nu schuld...   \n",
       "ECLI:NL:RBARN:2000:AF0135  Vaststelling door rechter-commissaris van een ...   \n",
       "ECLI:NL:RBMID:2000:AF0403  De Kantonrechter oordeelt dat een schuldsaneri...   \n",
       "ECLI:NL:RBROT:2000:AF0496  Afkoelingsperiode doet niet af aan een ontruim...   \n",
       "\n",
       "                                             rechtsgebied  p_topic_is_eviction  \n",
       "ECLI                                                                            \n",
       "ECLI:NL:RBAMS:2000:AA5199  civiel recht; insolventierecht                 True  \n",
       "ECLI:NL:RBAMS:2000:AF0022                    civiel recht                 True  \n",
       "ECLI:NL:RBARN:2000:AF0135                    civiel recht                 True  \n",
       "ECLI:NL:RBMID:2000:AF0403                    civiel recht                 True  \n",
       "ECLI:NL:RBROT:2000:AF0496                    civiel recht                 True  "
      ]
     },
     "execution_count": 3,
     "metadata": {},
     "output_type": "execute_result"
    }
   ],
   "source": [
    "df = pd.read_pickle(\"./data/2000-2023.pickle\")\n",
    "ecli_no = df.index[df.index.isin(evict_ecli)].tolist()\n",
    "corpus = df.loc[df.index.isin(evict_ecli)].judgment_text.tolist()\n",
    "# ecli_no = df.index[df.p_topic_is_eviction].tolist()\n",
    "# corpus = df.loc[df.p_topic_is_eviction].judgment_text.tolist()\n",
    "\n",
    "assert len(ecli_no)==len(corpus), f\"Number of ecli numbers {len(ecli_no)} is not equal to the number of texts {len(texts)}\"\n",
    "print(f\"there are {len(ecli_no)} eviction-related (known) cases.\")\n",
    "\n",
    "df.head()"
   ]
  },
  {
   "cell_type": "code",
   "execution_count": 12,
   "id": "f69a0d5e",
   "metadata": {},
   "outputs": [
    {
     "name": "stdout",
     "output_type": "stream",
     "text": [
      "Here is the pipeline for the model 'nl_core_news_lg'.\n",
      "['tok2vec', 'morphologizer', 'lemmatizer', 'attribute_ruler', 'ner', 'company_name_detector', 'merge_entities']\n"
     ]
    }
   ],
   "source": [
    "from utils import STOP_WORDS, nlp\n",
    "%load_ext autoreload\n",
    "%autoreload 2"
   ]
  },
  {
   "cell_type": "code",
   "execution_count": 13,
   "id": "bdf80165",
   "metadata": {},
   "outputs": [
    {
     "name": "stdout",
     "output_type": "stream",
     "text": [
      "0 100 200 300 400 500 600 700 800 900 1000 1100 1200 1300 1400 1500 1600 1700 1800 1900 2000 2100 2200 2300 2400 2500 2600 2700 2800 2900 3000 3100 3200 3300 3400 3500 3600 3700 3800 3900 4000 4100 4200 4300 4400 4500 4600 4700 4800 4900 5000 "
     ]
    }
   ],
   "source": [
    "cleaned_texts = []\n",
    "for i, txt in enumerate(corpus):\n",
    "    if i%100==0:\n",
    "        print(i, end=\" \")\n",
    "    cleaned_texts.append(\n",
    "        \" \".join([\n",
    "            token.lemma_.lower() for token in nlp(txt) if (\n",
    "                token.lower_ not in STOP_WORDS\n",
    "            ) and (\n",
    "                token.lemma_.lower() not in STOP_WORDS\n",
    "            ) and (\n",
    "                token.is_alpha\n",
    "            ) and (\n",
    "                len(token)>3\n",
    "            ) and (\n",
    "                len(token.ent_type_)==0\n",
    "            ) \n",
    "        ])\n",
    "    )"
   ]
  },
  {
   "cell_type": "code",
   "execution_count": 14,
   "id": "7727160d",
   "metadata": {},
   "outputs": [],
   "source": [
    "np.savez(\"./data/clean_texts\", clean_text=cleaned_texts, ecli=ecli_no)"
   ]
  },
  {
   "cell_type": "code",
   "execution_count": 8,
   "id": "0fccfa9e",
   "metadata": {},
   "outputs": [
    {
     "ename": "TypeError",
     "evalue": "'int' object is not callable",
     "output_type": "error",
     "traceback": [
      "\u001b[0;31m---------------------------------------------------------------------------\u001b[0m",
      "\u001b[0;31mTypeError\u001b[0m                                 Traceback (most recent call last)",
      "Input \u001b[0;32mIn [8]\u001b[0m, in \u001b[0;36m<cell line: 2>\u001b[0;34m()\u001b[0m\n\u001b[1;32m      1\u001b[0m doc \u001b[38;5;241m=\u001b[39m nlp(\u001b[38;5;124m\"\u001b[39m\u001b[38;5;124mKinderen zijn klein\u001b[39m\u001b[38;5;124m\"\u001b[39m)\n\u001b[1;32m      2\u001b[0m \u001b[38;5;28;01mfor\u001b[39;00m token \u001b[38;5;129;01min\u001b[39;00m doc:\n\u001b[0;32m----> 3\u001b[0m     \u001b[38;5;28mprint\u001b[39m(token\u001b[38;5;241m.\u001b[39mtext, \u001b[43mtoken\u001b[49m\u001b[38;5;241;43m.\u001b[39;49m\u001b[43mlower\u001b[49m\u001b[43m(\u001b[49m\u001b[43m)\u001b[49m\u001b[38;5;241m.\u001b[39mlemma_)\n",
      "\u001b[0;31mTypeError\u001b[0m: 'int' object is not callable"
     ]
    }
   ],
   "source": [
    "doc = nlp(\"Kinderen zijn klein\")\n",
    "for token in doc:\n",
    "    print(token.text, token.text.lemma_)"
   ]
  },
  {
   "cell_type": "code",
   "execution_count": null,
   "id": "fbf740bc",
   "metadata": {},
   "outputs": [],
   "source": []
  },
  {
   "cell_type": "code",
   "execution_count": null,
   "id": "8af4e59c",
   "metadata": {},
   "outputs": [],
   "source": []
  }
 ],
 "metadata": {
  "kernelspec": {
   "display_name": "Python 3 (ipykernel)",
   "language": "python",
   "name": "python3"
  },
  "language_info": {
   "codemirror_mode": {
    "name": "ipython",
    "version": 3
   },
   "file_extension": ".py",
   "mimetype": "text/x-python",
   "name": "python",
   "nbconvert_exporter": "python",
   "pygments_lexer": "ipython3",
   "version": "3.9.12"
  }
 },
 "nbformat": 4,
 "nbformat_minor": 5
}
